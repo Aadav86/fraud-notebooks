{
 "cells": [
  {
   "cell_type": "markdown",
   "metadata": {},
   "source": [
    "# Generating synthetic payments data\n",
    "\n",
    "In this notebook, we'll build up a very simple simulator to generate payments data corresponding to legitimate and fraudulent transactions.  (There are many ways you could improve this generator and we'll call some of them out.)  We'll start by building up some functionality to run simulations in general.\n",
    "\n",
    "## An (extremely) basic discrete-event simulation framework\n",
    "\n",
    "The next function is all you need to run simple discrete-event simulations.  Here's how to use it:\n",
    "\n",
    "- you'll define several streams of events, each of which is modeled by a Python generator,\n",
    "- each event stream generator will `yield` a tuple consisting of *an offset* (the amount of time that has passed since the last event of that type) and *a result* (an arbitrary Python value associated with the event),\n",
    "- the generator produced by the `simulate` function will yield the next event from all event streams indefinitely."
   ]
  },
  {
   "cell_type": "code",
   "execution_count": 1,
   "metadata": {},
   "outputs": [],
   "source": [
    "import heapq\n",
    "\n",
    "def simulate(event_generators):\n",
    "    pq = []\n",
    "    for event in event_generators:\n",
    "        offset, result = next(event)\n",
    "        heapq.heappush(pq, (offset, result, event))\n",
    "    \n",
    "    while True:\n",
    "        timestamp, result, event = heapq.heappop(pq)\n",
    "        offset, next_result = next(event)\n",
    "        heapq.heappush(pq, (timestamp + offset, next_result, event))\n",
    "        yield (timestamp, result)"
   ]
  },
  {
   "cell_type": "markdown",
   "metadata": {},
   "source": [
    "It may be easier to see how this works with an example.  In the next three cells, we \n",
    "\n",
    "1. define a generator for event streams, which samples interarrival times from a Poisson distribution and returns a predefined string as the result at each event,\n",
    "2. set up a simulation with four streams, each of which has a different distribution of interarrival times and value, and\n",
    "3. take the first twenty events from the simulation"
   ]
  },
  {
   "cell_type": "code",
   "execution_count": 2,
   "metadata": {},
   "outputs": [],
   "source": [
    "from scipy import stats\n",
    "\n",
    "def bedrockstream(mu, name):\n",
    "    while True:\n",
    "        offset, = stats.poisson.rvs(mu, size=1)\n",
    "        yield (offset, name)"
   ]
  },
  {
   "cell_type": "code",
   "execution_count": 3,
   "metadata": {},
   "outputs": [],
   "source": [
    "sim = simulate([bedrockstream(10, \"fred\"), \n",
    "                bedrockstream(12, \"betty\"), \n",
    "                bedrockstream(20, \"wilma\"), \n",
    "                bedrockstream(35, \"barney\")])"
   ]
  },
  {
   "cell_type": "code",
   "execution_count": 4,
   "metadata": {
    "scrolled": true
   },
   "outputs": [
    {
     "name": "stdout",
     "output_type": "stream",
     "text": [
      "(13, 'betty')\n",
      "(16, 'fred')\n",
      "(18, 'wilma')\n",
      "(26, 'betty')\n",
      "(27, 'fred')\n",
      "(30, 'barney')\n",
      "(33, 'wilma')\n",
      "(38, 'betty')\n",
      "(43, 'fred')\n",
      "(47, 'betty')\n",
      "(51, 'fred')\n",
      "(55, 'betty')\n",
      "(59, 'wilma')\n",
      "(62, 'fred')\n",
      "(68, 'barney')\n",
      "(70, 'betty')\n",
      "(71, 'wilma')\n",
      "(79, 'fred')\n",
      "(86, 'wilma')\n",
      "(88, 'fred')\n"
     ]
    }
   ],
   "source": [
    "for i in range(20):\n",
    "    print(next(sim))"
   ]
  },
  {
   "cell_type": "markdown",
   "metadata": {},
   "source": [
    "## Modeling transactions\n",
    "\n",
    "The first problem we have to do is to decide what data we'll generate for each transaction.  Some interesting possibilities include:\n",
    "\n",
    "- user ID\n",
    "- merchant ID\n",
    "- merchant type\n",
    "- transaction amount (assuming a single currency)\n",
    "- card entry mode (e.g., contactless, chip and pin, swipe, card manually keyed, or online transaction)\n",
    "- foreign transaction (whether or not the user's home country matches the country in which the transaction is taking place)\n",
    "\n",
    "We'll also generate a label for each transaction (`legitimate` or `fraud`).  We'll start with a very basic user event stream generator:  all of the transactions we generate will be legitimate, and we won't do anything particularly interesting with most of the fields."
   ]
  },
  {
   "cell_type": "code",
   "execution_count": 5,
   "metadata": {},
   "outputs": [],
   "source": [
    "import numpy as np\n",
    "MERCHANT_COUNT = 20000\n",
    "\n",
    "# a small percentage of merchants account for most transactions\n",
    "COMMON_MERCHANT_COUNT = MERCHANT_COUNT // 21\n",
    "\n",
    "common_merchants = np.random.choice(MERCHANT_COUNT, \n",
    "                                    size=COMMON_MERCHANT_COUNT, \n",
    "                                    replace=True)\n",
    "\n",
    "def basic_user_stream(user_id, mu):\n",
    "    favorite_merchants = np.random.choice(common_merchants,\n",
    "                                         size=len(common_merchants) // 5)\n",
    "    while True:\n",
    "        amount = 100.00\n",
    "        entry = \"chip_and_pin\"\n",
    "        foreign = False\n",
    "        \n",
    "        merchant_id, = np.random.choice(favorite_merchants, size=1)\n",
    "        offset, = stats.poisson.rvs(mu, size=1)\n",
    "        result = {\n",
    "            \"user_id\": user_id,\n",
    "            \"amount\": amount,\n",
    "            \"merchant_id\": merchant_id,\n",
    "            \"entry\": entry,\n",
    "            \"foreign\": foreign\n",
    "        }\n",
    "        yield (offset, (\"legitimate\", *result.values()))"
   ]
  },
  {
   "cell_type": "code",
   "execution_count": 6,
   "metadata": {},
   "outputs": [],
   "source": [
    "sim = simulate([basic_user_stream(1, 700), basic_user_stream(2, 105), basic_user_stream(3, 40)])"
   ]
  },
  {
   "cell_type": "code",
   "execution_count": 7,
   "metadata": {},
   "outputs": [
    {
     "name": "stdout",
     "output_type": "stream",
     "text": [
      "(34, ('legitimate', 3, 100.0, 19578, 'chip_and_pin', False))\n",
      "(73, ('legitimate', 3, 100.0, 15625, 'chip_and_pin', False))\n",
      "(103, ('legitimate', 3, 100.0, 5101, 'chip_and_pin', False))\n",
      "(107, ('legitimate', 2, 100.0, 3534, 'chip_and_pin', False))\n",
      "(145, ('legitimate', 3, 100.0, 15253, 'chip_and_pin', False))\n",
      "(178, ('legitimate', 3, 100.0, 14792, 'chip_and_pin', False))\n",
      "(214, ('legitimate', 3, 100.0, 17182, 'chip_and_pin', False))\n",
      "(220, ('legitimate', 2, 100.0, 16104, 'chip_and_pin', False))\n",
      "(249, ('legitimate', 3, 100.0, 10991, 'chip_and_pin', False))\n",
      "(296, ('legitimate', 3, 100.0, 10864, 'chip_and_pin', False))\n",
      "(318, ('legitimate', 2, 100.0, 11752, 'chip_and_pin', False))\n",
      "(335, ('legitimate', 3, 100.0, 16731, 'chip_and_pin', False))\n",
      "(388, ('legitimate', 3, 100.0, 10991, 'chip_and_pin', False))\n",
      "(410, ('legitimate', 2, 100.0, 19206, 'chip_and_pin', False))\n",
      "(425, ('legitimate', 3, 100.0, 16354, 'chip_and_pin', False))\n",
      "(464, ('legitimate', 3, 100.0, 17182, 'chip_and_pin', False))\n",
      "(504, ('legitimate', 3, 100.0, 6722, 'chip_and_pin', False))\n",
      "(508, ('legitimate', 2, 100.0, 14618, 'chip_and_pin', False))\n",
      "(534, ('legitimate', 3, 100.0, 1001, 'chip_and_pin', False))\n",
      "(582, ('legitimate', 3, 100.0, 10957, 'chip_and_pin', False))\n"
     ]
    }
   ],
   "source": [
    "for i in range(20):\n",
    "    print(next(sim))"
   ]
  },
  {
   "cell_type": "markdown",
   "metadata": {},
   "source": [
    "## Exercise:  some quick improvements\n",
    "\n",
    "1.  Users don't always just buy things from a few favorite merchants.  Change `basic_user_stream` so that they occasionally buy from any merchant.\n",
    "2.  Most people buy many inexpensive things and relatively few expensive things.  Use this insight to generate (more) realistic transaction amounts.\n",
    "3.  Some small percentage of online sales will be foreign transactions.  When a user is traveling abroad, nearly all of his or her transactions will be foreign transactions.  Add some state to `basic_user_stream` to model occasional international travel."
   ]
  },
  {
   "cell_type": "markdown",
   "metadata": {},
   "source": [
    "## Building a better transaction stream\n",
    "\n",
    "We'll start by building a generator to build a mixture model we can use to make several kinds of transactions:  small, medium, and large."
   ]
  },
  {
   "cell_type": "code",
   "execution_count": 88,
   "metadata": {},
   "outputs": [],
   "source": [
    "def transaction_amounts(means, percentages, distribution=None):\n",
    "    size = 256\n",
    "    index = 0\n",
    "    stream = []\n",
    "    \n",
    "    if distribution is None:\n",
    "        distribution = lambda m, sz: stats.lognorm.rvs(s=0.95, loc=m, scale=m/10, size=sz)\n",
    "    \n",
    "    while True:\n",
    "        if index == len(stream):\n",
    "            streams = [distribution(m * 100, size) for m in means]\n",
    "            stream = np.choose(np.random.choice(len(means), p=percentages, size=size), streams)\n",
    "            index = 0\n",
    "        result = stream[index]\n",
    "        index += 1\n",
    "        yield int(result) / 100"
   ]
  },
  {
   "cell_type": "markdown",
   "metadata": {},
   "source": [
    "Let's plot a histogram of some simulated transaction amounts sampled from three distributions with means corresponding to three kinds of purchases:  a latte, take-out for lunch, and a pair of Levi's."
   ]
  },
  {
   "cell_type": "code",
   "execution_count": 90,
   "metadata": {},
   "outputs": [
    {
     "data": {
      "application/javascript": [
       "var spec = {\"config\": {\"view\": {\"width\": 400, \"height\": 300}, \"mark\": {\"tooltip\": null}}, \"data\": {\"url\": \"altair-data-78e3424eaa02109bec8aa19a5172ae08.json\", \"format\": {\"type\": \"json\"}}, \"mark\": \"bar\", \"encoding\": {\"x\": {\"type\": \"quantitative\", \"bin\": {\"maxbins\": 100}, \"field\": \"amounts\"}, \"y\": {\"type\": \"quantitative\", \"aggregate\": \"count\"}}, \"$schema\": \"https://vega.github.io/schema/vega-lite/v3.4.0.json\"};\n",
       "var opt = {};\n",
       "var type = \"vega-lite\";\n",
       "var id = \"d0461891-fc9f-4fa2-ad8f-bbfeba3d795d\";\n",
       "\n",
       "var output_area = this;\n",
       "\n",
       "require([\"nbextensions/jupyter-vega/index\"], function(vega) {\n",
       "  var target = document.createElement(\"div\");\n",
       "  target.id = id;\n",
       "  target.className = \"vega-embed\";\n",
       "\n",
       "  var style = document.createElement(\"style\");\n",
       "  style.textContent = [\n",
       "    \".vega-embed .error p {\",\n",
       "    \"  color: firebrick;\",\n",
       "    \"  font-size: 14px;\",\n",
       "    \"}\",\n",
       "  ].join(\"\\\\n\");\n",
       "\n",
       "  // element is a jQuery wrapped DOM element inside the output area\n",
       "  // see http://ipython.readthedocs.io/en/stable/api/generated/\\\n",
       "  // IPython.display.html#IPython.display.Javascript.__init__\n",
       "  element[0].appendChild(target);\n",
       "  element[0].appendChild(style);\n",
       "\n",
       "  vega.render(\"#\" + id, spec, type, opt, output_area);\n",
       "}, function (err) {\n",
       "  if (err.requireType !== \"scripterror\") {\n",
       "    throw(err);\n",
       "  }\n",
       "});\n"
      ],
      "text/plain": [
       "<vega.vegalite.VegaLite at 0x1a24cbd860>"
      ]
     },
     "metadata": {
      "jupyter-vega": "#d0461891-fc9f-4fa2-ad8f-bbfeba3d795d"
     },
     "output_type": "display_data"
    },
    {
     "data": {
      "text/plain": []
     },
     "execution_count": 90,
     "metadata": {},
     "output_type": "execute_result"
    },
    {
     "data": {
      "image/png": "[encoded data removed]"
     },
     "metadata": {
      "jupyter-vega": "#d0461891-fc9f-4fa2-ad8f-bbfeba3d795d"
     },
     "output_type": "display_data"
    }
   ],
   "source": [
    "import pandas as pd\n",
    "\n",
    "import altair as alt\n",
    "alt.renderers.enable('notebook')\n",
    "alt.data_transformers.enable('json')\n",
    "\n",
    "amt = transaction_amounts([5, 15, 50], [0.45, 0.4, 0.15])\n",
    "amounts = [next(amt) for i in range(40000)]\n",
    "\n",
    "source = pd.DataFrame({\"amounts\": amounts})\n",
    "\n",
    "alt.Chart(source).mark_bar().encode(\n",
    "    alt.X(\"amounts\", bin=alt.Bin(maxbins=100)),\n",
    "    y='count()'\n",
    ")"
   ]
  },
  {
   "cell_type": "markdown",
   "metadata": {},
   "source": [
    "We can also plot a broader distribution of transactions:"
   ]
  },
  {
   "cell_type": "code",
   "execution_count": 33,
   "metadata": {},
   "outputs": [
    {
     "data": {
      "text/plain": [
       "1.0"
      ]
     },
     "execution_count": 33,
     "metadata": {},
     "output_type": "execute_result"
    }
   ],
   "source": [
    "sum([0.35, 0.25, 0.15, 0.1, 0.1, 0.05])"
   ]
  },
  {
   "cell_type": "code",
   "execution_count": 63,
   "metadata": {},
   "outputs": [
    {
     "data": {
      "application/javascript": [
       "var spec = {\"config\": {\"view\": {\"width\": 400, \"height\": 300}, \"mark\": {\"tooltip\": null}}, \"data\": {\"url\": \"altair-data-211c6411132d610d4e7cb980733262da.json\", \"format\": {\"type\": \"json\"}}, \"mark\": \"bar\", \"encoding\": {\"x\": {\"type\": \"quantitative\", \"bin\": {\"maxbins\": 100}, \"field\": \"amounts\"}, \"y\": {\"type\": \"quantitative\", \"aggregate\": \"count\"}}, \"$schema\": \"https://vega.github.io/schema/vega-lite/v3.4.0.json\"};\n",
       "var opt = {};\n",
       "var type = \"vega-lite\";\n",
       "var id = \"3646237c-4926-4e62-a665-36fff85e8658\";\n",
       "\n",
       "var output_area = this;\n",
       "\n",
       "require([\"nbextensions/jupyter-vega/index\"], function(vega) {\n",
       "  var target = document.createElement(\"div\");\n",
       "  target.id = id;\n",
       "  target.className = \"vega-embed\";\n",
       "\n",
       "  var style = document.createElement(\"style\");\n",
       "  style.textContent = [\n",
       "    \".vega-embed .error p {\",\n",
       "    \"  color: firebrick;\",\n",
       "    \"  font-size: 14px;\",\n",
       "    \"}\",\n",
       "  ].join(\"\\\\n\");\n",
       "\n",
       "  // element is a jQuery wrapped DOM element inside the output area\n",
       "  // see http://ipython.readthedocs.io/en/stable/api/generated/\\\n",
       "  // IPython.display.html#IPython.display.Javascript.__init__\n",
       "  element[0].appendChild(target);\n",
       "  element[0].appendChild(style);\n",
       "\n",
       "  vega.render(\"#\" + id, spec, type, opt, output_area);\n",
       "}, function (err) {\n",
       "  if (err.requireType !== \"scripterror\") {\n",
       "    throw(err);\n",
       "  }\n",
       "});\n"
      ],
      "text/plain": [
       "<vega.vegalite.VegaLite at 0x1a23e8d4e0>"
      ]
     },
     "metadata": {
      "jupyter-vega": "#3646237c-4926-4e62-a665-36fff85e8658"
     },
     "output_type": "display_data"
    },
    {
     "data": {
      "text/plain": []
     },
     "execution_count": 63,
     "metadata": {},
     "output_type": "execute_result"
    },
    {
     "data": {
      "image/png": "[encoded data removed]"
     },
     "metadata": {
      "jupyter-vega": "#3646237c-4926-4e62-a665-36fff85e8658"
     },
     "output_type": "display_data"
    }
   ],
   "source": [
    "amt = transaction_amounts([5, 10, 15, 20, 50, 100], \n",
    "                          [0.35, 0.25, 0.15, 0.1, 0.1, 0.05])\n",
    "amounts = [next(amt) for i in range(40000)]\n",
    "\n",
    "source = pd.DataFrame({\"amounts\": amounts})\n",
    "\n",
    "alt.Chart(source).mark_bar().encode(\n",
    "    alt.X(\"amounts\", bin=alt.Bin(maxbins=100)),\n",
    "    y='count()',\n",
    ")"
   ]
  },
  {
   "cell_type": "markdown",
   "metadata": {},
   "source": [
    "Next up, we'll make a generator to create the entry types:"
   ]
  },
  {
   "cell_type": "code",
   "execution_count": 10,
   "metadata": {},
   "outputs": [],
   "source": [
    "def legitimate_entry_types():\n",
    "    index = 0\n",
    "    size = 256\n",
    "    stream = []\n",
    "    \n",
    "    entry_types = [\"contactless\", \"chip_and_pin\", \"swipe\", \"manual\", \"online\"]\n",
    "    entry_probs = [0.25,0.2,0.15,0.05,0.35]\n",
    "\n",
    "    while True:\n",
    "        if index == len(stream):\n",
    "            stream = [entry_types[i] for i in np.random.choice(len(entry_types), p=entry_probs, size=size)]\n",
    "            index = 0\n",
    "            \n",
    "        result = stream[index]\n",
    "        index += 1\n",
    "        yield result"
   ]
  },
  {
   "cell_type": "markdown",
   "metadata": {},
   "source": [
    "...and one for selecting merchants (primarily a user's favorite merchants):"
   ]
  },
  {
   "cell_type": "code",
   "execution_count": 11,
   "metadata": {},
   "outputs": [],
   "source": [
    "def merchant_stream(common_merchants, all_merchants, fav_percentage=0.2, probs=[0.6,0.37,0.03]):\n",
    "    favorite_merchants = np.random.choice(common_merchants,\n",
    "                                          size=int(len(common_merchants) * fav_percentage))\n",
    "    merchants = [favorite_merchants, common_merchants, all_merchants]\n",
    "    while True:\n",
    "        pool = merchants[np.random.choice(len(merchants), p=probs)]\n",
    "        yield int(np.random.choice(pool))"
   ]
  },
  {
   "cell_type": "markdown",
   "metadata": {},
   "source": [
    "We can combine all of these to generate a stream of legitimate activity for a single user:"
   ]
  },
  {
   "cell_type": "code",
   "execution_count": 12,
   "metadata": {},
   "outputs": [],
   "source": [
    "def legitimate_user_stream(user_id, mu, amount_means=[20,100,500], amount_probs=[0.9,0.075,0.025]):\n",
    "    amounts = transaction_amounts(amount_means, amount_probs)\n",
    "    entry_types = legitimate_entry_types()\n",
    "    merchants = merchant_stream(common_merchants, np.arange(MERCHANT_COUNT))\n",
    "    \n",
    "    while True:\n",
    "        amount = next(amounts)\n",
    "        entry = next(entry_types)\n",
    "        foreign = False\n",
    "        \n",
    "        merchant_id = next(merchants)\n",
    "        offset, = stats.poisson.rvs(mu, size=1)\n",
    "        result = {\n",
    "            \"user_id\": user_id,\n",
    "            \"amount\": amount,\n",
    "            \"merchant_id\": merchant_id,\n",
    "            \"entry\": entry,\n",
    "            \"foreign\": foreign\n",
    "        }\n",
    "        yield (offset, (\"legitimate\", *result.values()))"
   ]
  },
  {
   "cell_type": "code",
   "execution_count": 13,
   "metadata": {},
   "outputs": [
    {
     "name": "stdout",
     "output_type": "stream",
     "text": [
      "(48, ('legitimate', 3, 99.88, 2708, 'online', False))\n",
      "(84, ('legitimate', 3, 19.93, 3926, 'online', False))\n",
      "(98, ('legitimate', 2, 20.38, 17961, 'online', False))\n",
      "(125, ('legitimate', 3, 19.67, 2664, 'contactless', False))\n",
      "(160, ('legitimate', 3, 19.75, 14723, 'manual', False))\n",
      "(191, ('legitimate', 3, 20.66, 1515, 'contactless', False))\n",
      "(204, ('legitimate', 2, 20.15, 19825, 'contactless', False))\n",
      "(232, ('legitimate', 3, 20.34, 4058, 'chip_and_pin', False))\n",
      "(270, ('legitimate', 3, 21.11, 9640, 'online', False))\n",
      "(294, ('legitimate', 2, 20.27, 10097, 'swipe', False))\n",
      "(319, ('legitimate', 3, 20.04, 3342, 'manual', False))\n",
      "(352, ('legitimate', 3, 100.18, 19296, 'swipe', False))\n",
      "(385, ('legitimate', 3, 20.58, 17974, 'online', False))\n",
      "(396, ('legitimate', 2, 20.22, 3575, 'contactless', False))\n",
      "(430, ('legitimate', 3, 20.36, 6814, 'swipe', False))\n",
      "(469, ('legitimate', 3, 20.18, 13944, 'online', False))\n",
      "(481, ('legitimate', 2, 100.73, 14561, 'online', False))\n",
      "(516, ('legitimate', 3, 20.33, 9210, 'manual', False))\n",
      "(555, ('legitimate', 3, 20.57, 1069, 'chip_and_pin', False))\n",
      "(579, ('legitimate', 2, 19.49, 19222, 'chip_and_pin', False))\n",
      "(591, ('legitimate', 3, 20.15, 2454, 'chip_and_pin', False))\n",
      "(639, ('legitimate', 3, 19.34, 13548, 'online', False))\n",
      "(659, ('legitimate', 2, 19.72, 6897, 'online', False))\n",
      "(685, ('legitimate', 3, 20.08, 17665, 'online', False))\n",
      "(718, ('legitimate', 3, 99.08, 8617, 'online', False))\n",
      "(757, ('legitimate', 1, 20.38, 6564, 'online', False))\n",
      "(758, ('legitimate', 3, 20.05, 10082, 'contactless', False))\n",
      "(759, ('legitimate', 2, 19.49, 11380, 'contactless', False))\n",
      "(801, ('legitimate', 3, 19.93, 8683, 'online', False))\n",
      "(843, ('legitimate', 3, 20.49, 2211, 'contactless', False))\n",
      "(863, ('legitimate', 2, 20.43, 18767, 'contactless', False))\n",
      "(879, ('legitimate', 3, 19.43, 264, 'chip_and_pin', False))\n",
      "(926, ('legitimate', 3, 19.72, 10921, 'manual', False))\n",
      "(966, ('legitimate', 3, 20.39, 7691, 'contactless', False))\n",
      "(972, ('legitimate', 2, 20.33, 502, 'chip_and_pin', False))\n",
      "(1009, ('legitimate', 3, 19.79, 2708, 'online', False))\n",
      "(1040, ('legitimate', 3, 99.11, 6119, 'swipe', False))\n",
      "(1069, ('legitimate', 3, 19.94, 256, 'contactless', False))\n",
      "(1085, ('legitimate', 2, 20.16, 1966, 'online', False))\n",
      "(1100, ('legitimate', 3, 20.0, 3652, 'swipe', False))\n",
      "(1147, ('legitimate', 3, 19.59, 207, 'online', False))\n",
      "(1189, ('legitimate', 3, 20.9, 6803, 'swipe', False))\n",
      "(1196, ('legitimate', 2, 19.54, 9640, 'online', False))\n",
      "(1210, ('legitimate', 3, 20.06, 7691, 'chip_and_pin', False))\n",
      "(1264, ('legitimate', 3, 19.55, 4712, 'chip_and_pin', False))\n",
      "(1293, ('legitimate', 2, 20.18, 10465, 'online', False))\n",
      "(1300, ('legitimate', 3, 20.13, 13887, 'online', False))\n",
      "(1333, ('legitimate', 3, 19.93, 5175, 'contactless', False))\n",
      "(1379, ('legitimate', 3, 100.83, 11098, 'online', False))\n",
      "(1388, ('legitimate', 2, 20.58, 9368, 'contactless', False))\n",
      "(1423, ('legitimate', 3, 20.13, 15723, 'online', False))\n",
      "(1451, ('legitimate', 3, 19.72, 11137, 'manual', False))\n",
      "(1456, ('legitimate', 1, 19.86, 7341, 'chip_and_pin', False))\n",
      "(1492, ('legitimate', 3, 20.63, 17104, 'chip_and_pin', False))\n",
      "(1504, ('legitimate', 2, 19.5, 13806, 'online', False))\n",
      "(1531, ('legitimate', 3, 20.63, 1480, 'online', False))\n",
      "(1571, ('legitimate', 3, 19.51, 11051, 'online', False))\n",
      "(1617, ('legitimate', 3, 20.72, 2353, 'swipe', False))\n",
      "(1633, ('legitimate', 2, 101.0, 416, 'chip_and_pin', False))\n",
      "(1674, ('legitimate', 3, 20.32, 4601, 'chip_and_pin', False))\n",
      "(1715, ('legitimate', 3, 99.48, 1109, 'contactless', False))\n",
      "(1724, ('legitimate', 2, 19.33, 9836, 'contactless', False))\n",
      "(1753, ('legitimate', 3, 20.61, 9154, 'online', False))\n",
      "(1792, ('legitimate', 3, 100.52, 11841, 'swipe', False))\n",
      "(1817, ('legitimate', 2, 19.86, 14716, 'swipe', False))\n",
      "(1828, ('legitimate', 3, 20.5, 9825, 'chip_and_pin', False))\n",
      "(1857, ('legitimate', 3, 20.31, 7957, 'manual', False))\n",
      "(1897, ('legitimate', 3, 19.78, 3342, 'contactless', False))\n",
      "(1924, ('legitimate', 2, 100.92, 540, 'online', False))\n",
      "(1935, ('legitimate', 3, 20.88, 3534, 'manual', False))\n",
      "(1990, ('legitimate', 3, 20.15, 299, 'online', False))\n",
      "(2022, ('legitimate', 2, 20.52, 6199, 'online', False))\n",
      "(2028, ('legitimate', 3, 20.05, 14725, 'contactless', False))\n",
      "(2068, ('legitimate', 3, 20.11, 7029, 'contactless', False))\n",
      "(2097, ('legitimate', 3, 20.19, 6266, 'online', False))\n",
      "(2130, ('legitimate', 2, 99.32, 4671, 'contactless', False))\n",
      "(2130, ('legitimate', 3, 20.33, 8683, 'online', False))\n",
      "(2168, ('legitimate', 3, 20.24, 14834, 'swipe', False))\n",
      "(2192, ('legitimate', 1, 19.09, 8071, 'contactless', False))\n",
      "(2203, ('legitimate', 3, 20.79, 3232, 'chip_and_pin', False))\n",
      "(2237, ('legitimate', 2, 21.2, 5860, 'chip_and_pin', False))\n",
      "(2246, ('legitimate', 3, 19.42, 1496, 'online', False))\n",
      "(2289, ('legitimate', 3, 19.43, 6769, 'contactless', False))\n",
      "(2333, ('legitimate', 3, 19.58, 16676, 'chip_and_pin', False))\n",
      "(2339, ('legitimate', 2, 19.88, 2957, 'contactless', False))\n",
      "(2370, ('legitimate', 3, 19.78, 17974, 'chip_and_pin', False))\n",
      "(2412, ('legitimate', 3, 19.65, 11660, 'online', False))\n",
      "(2435, ('legitimate', 2, 20.57, 17883, 'online', False))\n",
      "(2452, ('legitimate', 3, 99.43, 16028, 'online', False))\n",
      "(2501, ('legitimate', 3, 20.47, 17582, 'online', False))\n",
      "(2543, ('legitimate', 2, 19.29, 19951, 'swipe', False))\n",
      "(2545, ('legitimate', 3, 20.32, 3348, 'contactless', False))\n",
      "(2585, ('legitimate', 3, 20.08, 5050, 'online', False))\n",
      "(2624, ('legitimate', 3, 21.26, 11137, 'online', False))\n",
      "(2638, ('legitimate', 2, 19.24, 6227, 'online', False))\n",
      "(2669, ('legitimate', 3, 19.42, 14803, 'online', False))\n",
      "(2713, ('legitimate', 3, 20.77, 18379, 'chip_and_pin', False))\n",
      "(2744, ('legitimate', 2, 19.88, 10192, 'contactless', False))\n",
      "(2754, ('legitimate', 3, 19.74, 12809, 'contactless', False))\n",
      "(2795, ('legitimate', 3, 20.25, 2211, 'swipe', False))\n",
      "(2826, ('legitimate', 3, 19.68, 12905, 'online', False))\n",
      "(2839, ('legitimate', 1, 20.38, 11752, 'online', False))\n",
      "(2842, ('legitimate', 2, 19.99, 16426, 'contactless', False))\n",
      "(2864, ('legitimate', 3, 19.92, 14448, 'swipe', False))\n",
      "(2895, ('legitimate', 3, 19.15, 11234, 'online', False))\n",
      "(2930, ('legitimate', 3, 19.96, 15465, 'chip_and_pin', False))\n",
      "(2954, ('legitimate', 2, 19.32, 6147, 'contactless', False))\n",
      "(2972, ('legitimate', 3, 20.27, 1283, 'chip_and_pin', False))\n",
      "(3019, ('legitimate', 3, 19.67, 11970, 'contactless', False))\n",
      "(3060, ('legitimate', 3, 19.72, 8298, 'contactless', False))\n",
      "(3085, ('legitimate', 2, 19.9, 12764, 'swipe', False))\n",
      "(3110, ('legitimate', 3, 20.49, 19009, 'contactless', False))\n",
      "(3148, ('legitimate', 3, 20.23, 13301, 'manual', False))\n",
      "(3186, ('legitimate', 3, 20.34, 11207, 'online', False))\n",
      "(3205, ('legitimate', 2, 19.48, 17175, 'chip_and_pin', False))\n",
      "(3230, ('legitimate', 3, 19.35, 19296, 'online', False))\n",
      "(3268, ('legitimate', 3, 19.55, 14739, 'online', False))\n",
      "(3314, ('legitimate', 3, 19.21, 15253, 'online', False))\n",
      "(3317, ('legitimate', 2, 19.61, 6681, 'online', False))\n",
      "(3364, ('legitimate', 3, 20.28, 18748, 'manual', False))\n",
      "(3401, ('legitimate', 3, 20.0, 11794, 'contactless', False))\n",
      "(3434, ('legitimate', 2, 20.53, 11883, 'contactless', False))\n",
      "(3441, ('legitimate', 3, 500.9, 11364, 'online', False))\n",
      "(3482, ('legitimate', 3, 19.73, 19115, 'swipe', False))\n",
      "(3498, ('legitimate', 1, 20.2, 7531, 'chip_and_pin', False))\n",
      "(3525, ('legitimate', 3, 19.3, 6138, 'chip_and_pin', False))\n",
      "(3557, ('legitimate', 2, 19.44, 1966, 'swipe', False))\n",
      "(3571, ('legitimate', 3, 19.92, 16210, 'contactless', False))\n",
      "(3616, ('legitimate', 3, 19.96, 2674, 'swipe', False))\n",
      "(3662, ('legitimate', 3, 19.47, 4601, 'online', False))\n",
      "(3684, ('legitimate', 2, 19.71, 16566, 'online', False))\n",
      "(3697, ('legitimate', 3, 19.39, 17147, 'online', False))\n",
      "(3731, ('legitimate', 3, 20.2, 19927, 'contactless', False))\n",
      "(3765, ('legitimate', 3, 19.95, 12042, 'online', False))\n",
      "(3796, ('legitimate', 3, 501.29, 1284, 'contactless', False))\n",
      "(3805, ('legitimate', 2, 19.7, 17237, 'swipe', False))\n",
      "(3826, ('legitimate', 3, 20.05, 8510, 'online', False))\n",
      "(3864, ('legitimate', 3, 19.6, 1446, 'chip_and_pin', False))\n",
      "(3898, ('legitimate', 3, 20.03, 10559, 'contactless', False))\n",
      "(3916, ('legitimate', 2, 18.97, 12755, 'online', False))\n",
      "(3952, ('legitimate', 3, 20.3, 11752, 'swipe', False))\n",
      "(3988, ('legitimate', 3, 20.16, 1303, 'online', False))\n",
      "(4016, ('legitimate', 2, 20.2, 17143, 'contactless', False))\n",
      "(4026, ('legitimate', 3, 19.55, 14989, 'online', False))\n",
      "(4074, ('legitimate', 3, 98.54, 16174, 'online', False))\n",
      "(4099, ('legitimate', 3, 20.41, 13786, 'swipe', False))\n",
      "(4125, ('legitimate', 2, 19.69, 3675, 'chip_and_pin', False))\n",
      "(4134, ('legitimate', 3, 19.11, 15329, 'online', False))\n",
      "(4186, ('legitimate', 3, 21.04, 11234, 'contactless', False))\n",
      "(4216, ('legitimate', 1, 20.75, 4720, 'contactless', False))\n",
      "(4224, ('legitimate', 2, 19.84, 11111, 'online', False))\n",
      "(4224, ('legitimate', 3, 20.75, 9515, 'online', False))\n",
      "(4257, ('legitimate', 3, 20.82, 11905, 'online', False))\n",
      "(4285, ('legitimate', 3, 19.47, 8701, 'online', False))\n",
      "(4324, ('legitimate', 3, 20.2, 5058, 'online', False))\n",
      "(4329, ('legitimate', 2, 20.13, 7343, 'online', False))\n",
      "(4362, ('legitimate', 3, 19.52, 2786, 'chip_and_pin', False))\n",
      "(4402, ('legitimate', 3, 20.13, 7165, 'online', False))\n",
      "(4433, ('legitimate', 2, 20.44, 2665, 'online', False))\n",
      "(4444, ('legitimate', 3, 19.27, 10691, 'online', False))\n",
      "(4478, ('legitimate', 3, 99.08, 12388, 'online', False))\n",
      "(4504, ('legitimate', 3, 20.01, 6266, 'swipe', False))\n",
      "(4533, ('legitimate', 2, 20.71, 13357, 'swipe', False))\n",
      "(4547, ('legitimate', 3, 19.9, 4535, 'manual', False))\n",
      "(4579, ('legitimate', 3, 19.83, 4058, 'online', False))\n",
      "(4622, ('legitimate', 3, 20.01, 3169, 'contactless', False))\n",
      "(4649, ('legitimate', 2, 20.21, 9770, 'contactless', False))\n",
      "(4669, ('legitimate', 3, 20.19, 533, 'contactless', False))\n",
      "(4707, ('legitimate', 3, 19.58, 2664, 'swipe', False))\n",
      "(4743, ('legitimate', 3, 19.89, 7165, 'contactless', False))\n",
      "(4754, ('legitimate', 2, 19.57, 4403, 'online', False))\n",
      "(4776, ('legitimate', 3, 19.73, 18896, 'chip_and_pin', False))\n",
      "(4813, ('legitimate', 3, 19.64, 6266, 'chip_and_pin', False))\n",
      "(4846, ('legitimate', 3, 19.94, 16714, 'online', False))\n",
      "(4857, ('legitimate', 2, 19.98, 12462, 'contactless', False))\n",
      "(4885, ('legitimate', 3, 19.64, 4440, 'online', False))\n",
      "(4919, ('legitimate', 3, 19.95, 9368, 'manual', False))\n",
      "(4927, ('legitimate', 1, 19.57, 7526, 'online', False))\n",
      "(4948, ('legitimate', 2, 19.93, 10999, 'online', False))\n",
      "(4971, ('legitimate', 3, 19.9, 15119, 'swipe', False))\n",
      "(5006, ('legitimate', 3, 20.64, 10844, 'contactless', False))\n",
      "(5029, ('legitimate', 2, 20.24, 12811, 'online', False))\n",
      "(5054, ('legitimate', 3, 19.74, 1779, 'online', False))\n",
      "(5091, ('legitimate', 3, 20.36, 7408, 'chip_and_pin', False))\n",
      "(5120, ('legitimate', 3, 19.72, 13086, 'swipe', False))\n",
      "(5125, ('legitimate', 2, 20.47, 13806, 'manual', False))\n",
      "(5175, ('legitimate', 3, 18.79, 3821, 'online', False))\n",
      "(5216, ('legitimate', 2, 20.98, 12755, 'contactless', False))\n",
      "(5222, ('legitimate', 3, 19.41, 13944, 'contactless', False))\n",
      "(5263, ('legitimate', 3, 20.3, 706, 'chip_and_pin', False))\n",
      "(5297, ('legitimate', 3, 20.46, 10777, 'chip_and_pin', False))\n",
      "(5331, ('legitimate', 2, 19.77, 18543, 'contactless', False))\n",
      "(5333, ('legitimate', 3, 20.38, 18210, 'chip_and_pin', False))\n",
      "(5374, ('legitimate', 3, 99.88, 11137, 'swipe', False))\n",
      "(5405, ('legitimate', 3, 20.21, 16609, 'contactless', False))\n",
      "(5456, ('legitimate', 3, 19.63, 674, 'online', False))\n",
      "(5459, ('legitimate', 2, 20.63, 5285, 'contactless', False))\n",
      "(5495, ('legitimate', 3, 18.91, 5101, 'swipe', False))\n",
      "(5532, ('legitimate', 3, 19.64, 14528, 'online', False))\n",
      "(5559, ('legitimate', 2, 20.31, 1997, 'chip_and_pin', False))\n"
     ]
    }
   ],
   "source": [
    "sim = simulate([legitimate_user_stream(1, 700), \n",
    "                legitimate_user_stream(2, 105), \n",
    "                legitimate_user_stream(3, 40)])\n",
    "\n",
    "for i in range(200):\n",
    "    print(next(sim))"
   ]
  },
  {
   "cell_type": "markdown",
   "metadata": {},
   "source": [
    "## Simulating fraud\n",
    "\n",
    "WIP"
   ]
  }
 ],
 "metadata": {
  "kernelspec": {
   "display_name": "Python 3",
   "language": "python",
   "name": "python3"
  },
  "language_info": {
   "codemirror_mode": {
    "name": "ipython",
    "version": 3
   },
   "file_extension": ".py",
   "mimetype": "text/x-python",
   "name": "python",
   "nbconvert_exporter": "python",
   "pygments_lexer": "ipython3",
   "version": "3.7.3"
  }
 },
 "nbformat": 4,
 "nbformat_minor": 2
}
